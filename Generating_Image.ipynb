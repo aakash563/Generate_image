{
 "cells": [
  {
   "cell_type": "markdown",
   "id": "0991c505",
   "metadata": {},
   "source": [
    "### PIL (Python Imaging Library) / Pillow:"
   ]
  },
  {
   "cell_type": "code",
   "execution_count": 1,
   "id": "9cef88ea",
   "metadata": {},
   "outputs": [],
   "source": [
    "from PIL import Image, ImageDraw"
   ]
  },
  {
   "cell_type": "code",
   "execution_count": 2,
   "id": "994f1c1e",
   "metadata": {},
   "outputs": [],
   "source": [
    "# Create a new Image\n",
    "img = Image.new('RGB',(200,200),color='white')\n"
   ]
  },
  {
   "cell_type": "code",
   "execution_count": 3,
   "id": "46ba1a6c",
   "metadata": {},
   "outputs": [],
   "source": [
    "# Create a drawing context\n",
    "draw = ImageDraw.Draw(img)"
   ]
  },
  {
   "cell_type": "code",
   "execution_count": 4,
   "id": "2a1cdeca",
   "metadata": {},
   "outputs": [],
   "source": [
    "# Draw a red rectangle\n",
    "draw.rectangle([50,50,150,150],fill='red')"
   ]
  },
  {
   "cell_type": "code",
   "execution_count": 5,
   "id": "189cfa43",
   "metadata": {},
   "outputs": [],
   "source": [
    "# Save the Image\n",
    "img.save('Generated_Image_Pillow_Method.png')"
   ]
  },
  {
   "cell_type": "markdown",
   "id": "d539a118",
   "metadata": {},
   "source": [
    "### NumPy:"
   ]
  },
  {
   "cell_type": "code",
   "execution_count": 6,
   "id": "2e7e52a1",
   "metadata": {},
   "outputs": [],
   "source": [
    "import cv2\n",
    "import numpy as np"
   ]
  },
  {
   "cell_type": "code",
   "execution_count": 8,
   "id": "a4bf6d43",
   "metadata": {},
   "outputs": [],
   "source": [
    "# Create a blank image\n",
    "width, height = 800,600\n",
    "image = np.zeros((height,width,3), dtype=np.uint8)"
   ]
  },
  {
   "cell_type": "code",
   "execution_count": 9,
   "id": "a66c283e",
   "metadata": {},
   "outputs": [
    {
     "data": {
      "text/plain": [
       "array([[[0, 0, 0],\n",
       "        [0, 0, 0],\n",
       "        [0, 0, 0],\n",
       "        ...,\n",
       "        [0, 0, 0],\n",
       "        [0, 0, 0],\n",
       "        [0, 0, 0]],\n",
       "\n",
       "       [[0, 0, 0],\n",
       "        [0, 0, 0],\n",
       "        [0, 0, 0],\n",
       "        ...,\n",
       "        [0, 0, 0],\n",
       "        [0, 0, 0],\n",
       "        [0, 0, 0]],\n",
       "\n",
       "       [[0, 0, 0],\n",
       "        [0, 0, 0],\n",
       "        [0, 0, 0],\n",
       "        ...,\n",
       "        [0, 0, 0],\n",
       "        [0, 0, 0],\n",
       "        [0, 0, 0]],\n",
       "\n",
       "       ...,\n",
       "\n",
       "       [[0, 0, 0],\n",
       "        [0, 0, 0],\n",
       "        [0, 0, 0],\n",
       "        ...,\n",
       "        [0, 0, 0],\n",
       "        [0, 0, 0],\n",
       "        [0, 0, 0]],\n",
       "\n",
       "       [[0, 0, 0],\n",
       "        [0, 0, 0],\n",
       "        [0, 0, 0],\n",
       "        ...,\n",
       "        [0, 0, 0],\n",
       "        [0, 0, 0],\n",
       "        [0, 0, 0]],\n",
       "\n",
       "       [[0, 0, 0],\n",
       "        [0, 0, 0],\n",
       "        [0, 0, 0],\n",
       "        ...,\n",
       "        [0, 0, 0],\n",
       "        [0, 0, 0],\n",
       "        [0, 0, 0]]], dtype=uint8)"
      ]
     },
     "execution_count": 9,
     "metadata": {},
     "output_type": "execute_result"
    }
   ],
   "source": [
    "# Draw a blue rectangle\n",
    "cv2.rectangle(image,(100,100),(400,400),(255,0,0),-1) # -1 for filled rectangle"
   ]
  },
  {
   "cell_type": "code",
   "execution_count": 10,
   "id": "0ac1827d",
   "metadata": {},
   "outputs": [
    {
     "data": {
      "text/plain": [
       "True"
      ]
     },
     "execution_count": 10,
     "metadata": {},
     "output_type": "execute_result"
    }
   ],
   "source": [
    "# Save the image\n",
    "cv2.imwrite('Generate_Image_numpy.png',image)"
   ]
  },
  {
   "cell_type": "markdown",
   "id": "cded6932",
   "metadata": {},
   "source": [
    "### Using Random value"
   ]
  },
  {
   "cell_type": "code",
   "execution_count": 11,
   "id": "c843fcf7",
   "metadata": {},
   "outputs": [],
   "source": [
    "import numpy as np\n",
    "import cv2 "
   ]
  },
  {
   "cell_type": "code",
   "execution_count": 12,
   "id": "27e5f377",
   "metadata": {},
   "outputs": [],
   "source": [
    "# Dimension of the image\n",
    "width, height = 800,600"
   ]
  },
  {
   "cell_type": "code",
   "execution_count": 13,
   "id": "83ee235c",
   "metadata": {},
   "outputs": [],
   "source": [
    "# Generate a random image with pixel value between 0 and 255\n",
    "random_image = np.random.randint(0,256,size=(height,width,3),dtype=np. uint8)"
   ]
  },
  {
   "cell_type": "code",
   "execution_count": 14,
   "id": "9c18d85c",
   "metadata": {},
   "outputs": [
    {
     "data": {
      "text/plain": [
       "True"
      ]
     },
     "execution_count": 14,
     "metadata": {},
     "output_type": "execute_result"
    }
   ],
   "source": [
    "# Save the random image\n",
    "cv2.imwrite('Generated_random_image.png',random_image)"
   ]
  },
  {
   "cell_type": "code",
   "execution_count": null,
   "id": "d9c2c7c8",
   "metadata": {},
   "outputs": [],
   "source": []
  }
 ],
 "metadata": {
  "kernelspec": {
   "display_name": "Python 3 (ipykernel)",
   "language": "python",
   "name": "python3"
  },
  "language_info": {
   "codemirror_mode": {
    "name": "ipython",
    "version": 3
   },
   "file_extension": ".py",
   "mimetype": "text/x-python",
   "name": "python",
   "nbconvert_exporter": "python",
   "pygments_lexer": "ipython3",
   "version": "3.8.0"
  }
 },
 "nbformat": 4,
 "nbformat_minor": 5
}
